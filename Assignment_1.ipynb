{
 "cells": [
  {
   "cell_type": "markdown",
   "metadata": {},
   "source": [
    "## Answers\n",
    "####  Q1  -- Values - \"hello\", -87.8 , 6\n",
    "####        Expressions -  * , - , /, +"
   ]
  },
  {
   "cell_type": "markdown",
   "metadata": {},
   "source": [
    "#### Q2 - string is one type of data type in python. hence variable is an identifier to store a value in  the memory location . string is represented in single quotes or  double quotes. hence variable is represented by sequence of character including number and symbols with some rules. A variable can hold a string but string cant hold a variable.\n",
    "\n",
    "example -  string_1 = \"Yogesh Kumar\"     \n",
    "\n",
    "here inside a quotes is called string\n",
    "\n",
    "variable_1 = 4                     \n",
    "\n",
    "here we defined a variable is equal to 4 which can be used for further"
   ]
  },
  {
   "cell_type": "markdown",
   "metadata": {},
   "source": [
    "#### Q3 - Three Different data types - \n",
    "1)  String: A string value is a collection of one or more characters put in single, double or triple quotes.\n",
    "\n",
    "2) List: A list object is an ordered collection of one or more data items, not necessarily of the same type, put in square brackets.\n",
    "\n",
    "3) Tuple: A Tuple object is an ordered collection of one or more data items, not necessarily of the same type, put in parentheses.\n"
   ]
  },
  {
   "cell_type": "markdown",
   "metadata": {},
   "source": [
    "#### Q4 - An Expression is made up of combination of values , variables , operators, and calls to function. expressions evaluate the value based on combinations and operators , return and yield the value .\n",
    "example - x = 4+2+3*2\n"
   ]
  },
  {
   "cell_type": "markdown",
   "metadata": {},
   "source": [
    "#### Q5 - Statements represent an action or command e.g print statements, assignment statements.  Expression is a combination of variables, operations and values that yields a result value. An expression is something that can be reduced to a value, for example \"1+3\" or \"foo = 1+3\""
   ]
  },
  {
   "cell_type": "markdown",
   "metadata": {},
   "source": [
    " #### Q6 -  bacon = 22 , bacon +1 , so  now bacon will be 23\n",
    "         "
   ]
  },
  {
   "cell_type": "markdown",
   "metadata": {},
   "source": [
    "#### Q7 - "
   ]
  },
  {
   "cell_type": "code",
   "execution_count": 1,
   "metadata": {},
   "outputs": [
    {
     "data": {
      "text/plain": [
       "'spamspamspam'"
      ]
     },
     "execution_count": 1,
     "metadata": {},
     "output_type": "execute_result"
    }
   ],
   "source": [
    "\"spam\"+ \"spamspam\""
   ]
  },
  {
   "cell_type": "code",
   "execution_count": 2,
   "metadata": {},
   "outputs": [
    {
     "data": {
      "text/plain": [
       "'spamspamspam'"
      ]
     },
     "execution_count": 2,
     "metadata": {},
     "output_type": "execute_result"
    }
   ],
   "source": [
    "\"spam\"*3"
   ]
  },
  {
   "cell_type": "markdown",
   "metadata": {},
   "source": [
    "#### Q8 - \n",
    "Variable names may contain letters, digits (0-9) or the underscore character _.\n",
    "Variable names must begin with a letter from A-Z or the underscore _ character. Either lowercase or uppercase letters are acceptable.\n",
    "Variable names may not be a reserved word in Python.\n",
    "accroding to this rules eggs is valid variable name hence 100 is invalid."
   ]
  },
  {
   "cell_type": "markdown",
   "metadata": {},
   "source": [
    "#### Q9  - to convert into integer int() function , to convert into string str( )  and to convert into float number float( ) function is used"
   ]
  },
  {
   "cell_type": "code",
   "execution_count": 5,
   "metadata": {},
   "outputs": [
    {
     "data": {
      "text/plain": [
       "4.0"
      ]
     },
     "execution_count": 5,
     "metadata": {},
     "output_type": "execute_result"
    }
   ],
   "source": [
    "str(99)\n",
    "int(4.0)\n",
    "float(4)"
   ]
  },
  {
   "cell_type": "markdown",
   "metadata": {},
   "source": [
    "#### Q10 - \" I have eaten\" + 99 + \"burritos\"        in this statement number 99 is  not concate with string so firstly we have to convert into an string format so that it can be concate."
   ]
  },
  {
   "cell_type": "code",
   "execution_count": 3,
   "metadata": {},
   "outputs": [
    {
     "data": {
      "text/plain": [
       "' I have eaten99burritos'"
      ]
     },
     "execution_count": 3,
     "metadata": {},
     "output_type": "execute_result"
    }
   ],
   "source": [
    "\" I have eaten\" + str(99) + \"burritos\""
   ]
  },
  {
   "cell_type": "code",
   "execution_count": null,
   "metadata": {},
   "outputs": [],
   "source": []
  }
 ],
 "metadata": {
  "kernelspec": {
   "display_name": "Python 3",
   "language": "python",
   "name": "python3"
  },
  "language_info": {
   "codemirror_mode": {
    "name": "ipython",
    "version": 3
   },
   "file_extension": ".py",
   "mimetype": "text/x-python",
   "name": "python",
   "nbconvert_exporter": "python",
   "pygments_lexer": "ipython3",
   "version": "3.7.4"
  }
 },
 "nbformat": 4,
 "nbformat_minor": 2
}
